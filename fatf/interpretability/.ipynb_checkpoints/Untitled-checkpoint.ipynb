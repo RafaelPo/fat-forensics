{
 "cells": [
  {
   "cell_type": "code",
   "execution_count": 32,
   "metadata": {},
   "outputs": [],
   "source": [
    "from fatf.interpretability.cf_explainer import Explainer\n",
    "from fatf.interpretability.supp_explainer import create_dataset, remove_field\n",
    "from sklearn.linear_model import LogisticRegression\n",
    "import numpy as np\n",
    "from pprint import pprint"
   ]
  },
  {
   "cell_type": "code",
   "execution_count": 40,
   "metadata": {},
   "outputs": [],
   "source": [
    "dataset, treatments, distance_funcs = create_dataset()\n",
    "\n",
    "targets = dataset['Target']\n",
    "dataset = remove_field(dataset, 'Target')\n",
    "\n",
    "model = LogisticRegression(solver = 'lbfgs')\n",
    "\n",
    "newx = dataset.copy(order='K')\n",
    "newx = np.array(newx.tolist())\n",
    "model.fit(newx, targets)\n",
    "\n",
    "categorical_features = ['job_type']\n",
    "\n",
    "del distance_funcs['Target']"
   ]
  },
  {
   "cell_type": "code",
   "execution_count": 41,
   "metadata": {},
   "outputs": [
    {
     "name": "stdout",
     "output_type": "stream",
     "text": [
      "array([(35., 52., 2), ( 3., 86., 1), ( 3., 86., 2), (70., 57., 0),\n",
      "       (48., 57., 3), (30., 98., 0), (41., 73., 1)],\n",
      "      dtype=[('Age', '<f4'), ('Weight', '<f4'), ('job_type', '<i4')])\n"
     ]
    }
   ],
   "source": [
    "pprint(dataset)\n",
    "x0 = dataset[0]"
   ]
  },
  {
   "cell_type": "code",
   "execution_count": 42,
   "metadata": {},
   "outputs": [
    {
     "name": "stdout",
     "output_type": "stream",
     "text": [
      "(35., 52., 2)\n",
      "[1]\n"
     ]
    }
   ],
   "source": [
    "pred = model.predict(np.array(x0.tolist(), dtype=float).reshape(1, -1))\n",
    "pprint(x0)\n",
    "print(pred)\n",
    "feature_ranges = {\n",
    "                    'Age': {'min': x0['Age'] - 20,\n",
    "                            'max': x0['Age'] + 20},\n",
    "                  'job_type': np.array([x0['job_type']])\n",
    "                  }\n",
    "\n",
    "stepsizes = {\n",
    "            'Age': 0.10,\n",
    "            'Weight': 0.10\n",
    "            }\n"
   ]
  },
  {
   "cell_type": "code",
   "execution_count": 43,
   "metadata": {},
   "outputs": [
    {
     "name": "stdout",
     "output_type": "stream",
     "text": [
      "               ['_', '*', '_']\n",
      "New instance:  (35., 73.5, 2) // Distance:  21.5\n",
      "\n",
      "\n",
      "               ['_', '*', '_']\n",
      "New instance:  (35., 73.5, 2) // Distance:  21.5\n",
      "\n",
      "\n",
      "               ['*', '*', '_']\n",
      "New instance:  (34.9, 73.5, 2) // Distance:  21.599998474121094\n",
      "\n",
      "\n"
     ]
    }
   ],
   "source": [
    "mdl = Explainer(model, \n",
    "                categorical_features, \n",
    "                dataset,\n",
    "                monotone = False,\n",
    "                stepsizes = stepsizes,\n",
    "                feature_ranges=feature_ranges,\n",
    "                max_comb = 2,\n",
    "                dist_funcs = distance_funcs\n",
    "                )\n",
    "\n",
    "target_class = 0\n",
    "cf=mdl.generate_counterfactual(x0,\n",
    "                            target_class\n",
    "                            )"
   ]
  }
 ],
 "metadata": {
  "kernelspec": {
   "display_name": "Python 3",
   "language": "python",
   "name": "python3"
  },
  "language_info": {
   "codemirror_mode": {
    "name": "ipython",
    "version": 3
   },
   "file_extension": ".py",
   "mimetype": "text/x-python",
   "name": "python",
   "nbconvert_exporter": "python",
   "pygments_lexer": "ipython3",
   "version": "3.5.6"
  }
 },
 "nbformat": 4,
 "nbformat_minor": 2
}
